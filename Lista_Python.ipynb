{
  "nbformat": 4,
  "nbformat_minor": 0,
  "metadata": {
    "colab": {
      "name": "Lista_Python.ipynb",
      "provenance": [],
      "collapsed_sections": [],
      "authorship_tag": "ABX9TyOY75U103loCvbz47SVLlLc",
      "include_colab_link": true
    },
    "kernelspec": {
      "name": "python3",
      "display_name": "Python 3"
    }
  },
  "cells": [
    {
      "cell_type": "markdown",
      "metadata": {
        "id": "view-in-github",
        "colab_type": "text"
      },
      "source": [
        "<a href=\"https://colab.research.google.com/github/wjunior83/fiap/blob/master/Lista_Python.ipynb\" target=\"_parent\"><img src=\"https://colab.research.google.com/assets/colab-badge.svg\" alt=\"Open In Colab\"/></a>"
      ]
    },
    {
      "cell_type": "code",
      "metadata": {
        "id": "jnlmkoIObimm",
        "outputId": "8ccbcb1d-d1a6-46b2-d96d-8368a71a5507",
        "colab": {
          "base_uri": "https://localhost:8080/",
          "height": 71
        }
      },
      "source": [
        "#Importando bibliotecas\n",
        "import pandas as pd\n",
        "import statsmodels.api as sm\n",
        "import math"
      ],
      "execution_count": 1,
      "outputs": [
        {
          "output_type": "stream",
          "text": [
            "/usr/local/lib/python3.6/dist-packages/statsmodels/tools/_testing.py:19: FutureWarning: pandas.util.testing is deprecated. Use the functions in the public API at pandas.testing instead.\n",
            "  import pandas.util.testing as tm\n"
          ],
          "name": "stderr"
        }
      ]
    },
    {
      "cell_type": "code",
      "metadata": {
        "id": "h8sVetMPcejT"
      },
      "source": [
        "#Lendo arquivo cadastral\n",
        "cadastral = pd.read_excel('/content/cadastral.xlsx')"
      ],
      "execution_count": 4,
      "outputs": []
    },
    {
      "cell_type": "code",
      "metadata": {
        "id": "i03drl6Ics3j",
        "outputId": "dce0526d-29e4-4c77-bd15-53af678ef2c8",
        "colab": {
          "base_uri": "https://localhost:8080/",
          "height": 68
        }
      },
      "source": [
        "#1 - Tire uma tabela de frequência na variável Sexo\n",
        "cadastral[\"Sexo\"].value_counts()"
      ],
      "execution_count": 11,
      "outputs": [
        {
          "output_type": "execute_result",
          "data": {
            "text/plain": [
              "Masculino    514\n",
              "Feminino     432\n",
              "Name: Sexo, dtype: int64"
            ]
          },
          "metadata": {
            "tags": []
          },
          "execution_count": 11
        }
      ]
    },
    {
      "cell_type": "code",
      "metadata": {
        "id": "RcRUefj-dSRL",
        "outputId": "455bcb09-4112-469d-f8eb-52664521e400",
        "colab": {
          "base_uri": "https://localhost:8080/",
          "height": 419
        }
      },
      "source": [
        "#2 - Ordenar o arquivo pela variável ID\n",
        "cadastral.sort_values(by='ID')"
      ],
      "execution_count": 13,
      "outputs": [
        {
          "output_type": "execute_result",
          "data": {
            "text/html": [
              "<div>\n",
              "<style scoped>\n",
              "    .dataframe tbody tr th:only-of-type {\n",
              "        vertical-align: middle;\n",
              "    }\n",
              "\n",
              "    .dataframe tbody tr th {\n",
              "        vertical-align: top;\n",
              "    }\n",
              "\n",
              "    .dataframe thead th {\n",
              "        text-align: right;\n",
              "    }\n",
              "</style>\n",
              "<table border=\"1\" class=\"dataframe\">\n",
              "  <thead>\n",
              "    <tr style=\"text-align: right;\">\n",
              "      <th></th>\n",
              "      <th>ID</th>\n",
              "      <th>DataNascimento</th>\n",
              "      <th>Sexo</th>\n",
              "      <th>TempodeServiço</th>\n",
              "      <th>EstadoCivil</th>\n",
              "      <th>NumerodeFilhos</th>\n",
              "      <th>TempodeResidencia</th>\n",
              "      <th>Conta</th>\n",
              "      <th>salario</th>\n",
              "    </tr>\n",
              "  </thead>\n",
              "  <tbody>\n",
              "    <tr>\n",
              "      <th>0</th>\n",
              "      <td>1</td>\n",
              "      <td>1952-02-03</td>\n",
              "      <td>Masculino</td>\n",
              "      <td>98</td>\n",
              "      <td>3</td>\n",
              "      <td>0</td>\n",
              "      <td>7</td>\n",
              "      <td>Particular</td>\n",
              "      <td>5700.0</td>\n",
              "    </tr>\n",
              "    <tr>\n",
              "      <th>473</th>\n",
              "      <td>1</td>\n",
              "      <td>1952-02-03</td>\n",
              "      <td>Masculino</td>\n",
              "      <td>98</td>\n",
              "      <td>3</td>\n",
              "      <td>0</td>\n",
              "      <td>7</td>\n",
              "      <td>Particular</td>\n",
              "      <td>5700.0</td>\n",
              "    </tr>\n",
              "    <tr>\n",
              "      <th>1</th>\n",
              "      <td>2</td>\n",
              "      <td>1958-05-23</td>\n",
              "      <td>Masculino</td>\n",
              "      <td>98</td>\n",
              "      <td>3</td>\n",
              "      <td>0</td>\n",
              "      <td>43</td>\n",
              "      <td>Particular</td>\n",
              "      <td>4020.0</td>\n",
              "    </tr>\n",
              "    <tr>\n",
              "      <th>474</th>\n",
              "      <td>2</td>\n",
              "      <td>1958-05-23</td>\n",
              "      <td>Masculino</td>\n",
              "      <td>98</td>\n",
              "      <td>3</td>\n",
              "      <td>0</td>\n",
              "      <td>43</td>\n",
              "      <td>Particular</td>\n",
              "      <td>4020.0</td>\n",
              "    </tr>\n",
              "    <tr>\n",
              "      <th>2</th>\n",
              "      <td>3</td>\n",
              "      <td>1929-07-26</td>\n",
              "      <td>Feminino</td>\n",
              "      <td>98</td>\n",
              "      <td>1</td>\n",
              "      <td>0</td>\n",
              "      <td>7</td>\n",
              "      <td>empresa</td>\n",
              "      <td>2145.0</td>\n",
              "    </tr>\n",
              "    <tr>\n",
              "      <th>...</th>\n",
              "      <td>...</td>\n",
              "      <td>...</td>\n",
              "      <td>...</td>\n",
              "      <td>...</td>\n",
              "      <td>...</td>\n",
              "      <td>...</td>\n",
              "      <td>...</td>\n",
              "      <td>...</td>\n",
              "      <td>...</td>\n",
              "    </tr>\n",
              "    <tr>\n",
              "      <th>470</th>\n",
              "      <td>472</td>\n",
              "      <td>1966-02-21</td>\n",
              "      <td>Masculino</td>\n",
              "      <td>63</td>\n",
              "      <td>3</td>\n",
              "      <td>0</td>\n",
              "      <td>9</td>\n",
              "      <td>Particular</td>\n",
              "      <td>3915.0</td>\n",
              "    </tr>\n",
              "    <tr>\n",
              "      <th>944</th>\n",
              "      <td>473</td>\n",
              "      <td>1937-11-25</td>\n",
              "      <td>Feminino</td>\n",
              "      <td>63</td>\n",
              "      <td>3</td>\n",
              "      <td>0</td>\n",
              "      <td>29</td>\n",
              "      <td>empresa</td>\n",
              "      <td>2145.0</td>\n",
              "    </tr>\n",
              "    <tr>\n",
              "      <th>471</th>\n",
              "      <td>473</td>\n",
              "      <td>1937-11-25</td>\n",
              "      <td>Feminino</td>\n",
              "      <td>63</td>\n",
              "      <td>3</td>\n",
              "      <td>0</td>\n",
              "      <td>29</td>\n",
              "      <td>empresa</td>\n",
              "      <td>2145.0</td>\n",
              "    </tr>\n",
              "    <tr>\n",
              "      <th>472</th>\n",
              "      <td>474</td>\n",
              "      <td>1968-11-05</td>\n",
              "      <td>Feminino</td>\n",
              "      <td>63</td>\n",
              "      <td>2</td>\n",
              "      <td>6</td>\n",
              "      <td>12</td>\n",
              "      <td>empresa</td>\n",
              "      <td>2940.0</td>\n",
              "    </tr>\n",
              "    <tr>\n",
              "      <th>945</th>\n",
              "      <td>474</td>\n",
              "      <td>1968-11-05</td>\n",
              "      <td>Feminino</td>\n",
              "      <td>63</td>\n",
              "      <td>2</td>\n",
              "      <td>6</td>\n",
              "      <td>12</td>\n",
              "      <td>empresa</td>\n",
              "      <td>2940.0</td>\n",
              "    </tr>\n",
              "  </tbody>\n",
              "</table>\n",
              "<p>946 rows × 9 columns</p>\n",
              "</div>"
            ],
            "text/plain": [
              "      ID DataNascimento       Sexo  ...  TempodeResidencia       Conta  salario\n",
              "0      1     1952-02-03  Masculino  ...                  7  Particular   5700.0\n",
              "473    1     1952-02-03  Masculino  ...                  7  Particular   5700.0\n",
              "1      2     1958-05-23  Masculino  ...                 43  Particular   4020.0\n",
              "474    2     1958-05-23  Masculino  ...                 43  Particular   4020.0\n",
              "2      3     1929-07-26   Feminino  ...                  7     empresa   2145.0\n",
              "..   ...            ...        ...  ...                ...         ...      ...\n",
              "470  472     1966-02-21  Masculino  ...                  9  Particular   3915.0\n",
              "944  473     1937-11-25   Feminino  ...                 29     empresa   2145.0\n",
              "471  473     1937-11-25   Feminino  ...                 29     empresa   2145.0\n",
              "472  474     1968-11-05   Feminino  ...                 12     empresa   2940.0\n",
              "945  474     1968-11-05   Feminino  ...                 12     empresa   2940.0\n",
              "\n",
              "[946 rows x 9 columns]"
            ]
          },
          "metadata": {
            "tags": []
          },
          "execution_count": 13
        }
      ]
    },
    {
      "cell_type": "code",
      "metadata": {
        "id": "_K3RJGj3dkSw",
        "outputId": "b1ecf5de-17b7-4e24-de6e-ae683b47e290",
        "colab": {
          "base_uri": "https://localhost:8080/",
          "height": 34
        }
      },
      "source": [
        "#6 - Verifique se a variável salario é numérica\n",
        "cadastral[\"salario\"].dtypes"
      ],
      "execution_count": 17,
      "outputs": [
        {
          "output_type": "execute_result",
          "data": {
            "text/plain": [
              "dtype('float64')"
            ]
          },
          "metadata": {
            "tags": []
          },
          "execution_count": 17
        }
      ]
    },
    {
      "cell_type": "code",
      "metadata": {
        "id": "g-IaH4aGgJtm",
        "outputId": "1945040a-0cab-4c00-c4ee-426c4ee1e5d3",
        "colab": {
          "base_uri": "https://localhost:8080/",
          "height": 170
        }
      },
      "source": [
        "#7 - Mostre o mínimo e o máximo da variável salario\n",
        "cadastral[\"salario\"].describe()"
      ],
      "execution_count": 34,
      "outputs": [
        {
          "output_type": "execute_result",
          "data": {
            "text/plain": [
              "count      946.000000\n",
              "mean      3441.844609\n",
              "std       1708.467635\n",
              "min       1575.000000\n",
              "25%       2400.000000\n",
              "50%       2880.000000\n",
              "75%       3705.000000\n",
              "max      13500.000000\n",
              "Name: salario, dtype: float64"
            ]
          },
          "metadata": {
            "tags": []
          },
          "execution_count": 34
        }
      ]
    },
    {
      "cell_type": "code",
      "metadata": {
        "id": "aAve2DvejWoX"
      },
      "source": [
        "#8 - criando as quebras\n",
        "bins = [1574,3000,5000,7000,13500]"
      ],
      "execution_count": 36,
      "outputs": []
    },
    {
      "cell_type": "code",
      "metadata": {
        "id": "VAVsHziijj2x"
      },
      "source": [
        "#8 - criando as labels\n",
        "grupo = ['faixa1','faixa2','faixa3','faixa4']"
      ],
      "execution_count": 39,
      "outputs": []
    },
    {
      "cell_type": "code",
      "metadata": {
        "id": "kUZBXzCKhvjt",
        "outputId": "85d64a72-7ec0-4b13-d7b9-a9cd27e7da1d",
        "colab": {
          "base_uri": "https://localhost:8080/",
          "height": 204
        }
      },
      "source": [
        "#8 - Crie uma variável faixa de salario com as seguintes quebras: 1574, 3000, 5000, 7000, 13500\n",
        "cadastral[\"Fx_Salarial\"] = pd.cut(cadastral['salario'], bins, labels = grupo)\n",
        "cadastral.head()"
      ],
      "execution_count": 41,
      "outputs": [
        {
          "output_type": "execute_result",
          "data": {
            "text/html": [
              "<div>\n",
              "<style scoped>\n",
              "    .dataframe tbody tr th:only-of-type {\n",
              "        vertical-align: middle;\n",
              "    }\n",
              "\n",
              "    .dataframe tbody tr th {\n",
              "        vertical-align: top;\n",
              "    }\n",
              "\n",
              "    .dataframe thead th {\n",
              "        text-align: right;\n",
              "    }\n",
              "</style>\n",
              "<table border=\"1\" class=\"dataframe\">\n",
              "  <thead>\n",
              "    <tr style=\"text-align: right;\">\n",
              "      <th></th>\n",
              "      <th>ID</th>\n",
              "      <th>DataNascimento</th>\n",
              "      <th>Sexo</th>\n",
              "      <th>TempodeServiço</th>\n",
              "      <th>EstadoCivil</th>\n",
              "      <th>NumerodeFilhos</th>\n",
              "      <th>TempodeResidencia</th>\n",
              "      <th>Conta</th>\n",
              "      <th>salario</th>\n",
              "      <th>Fx_Salarial</th>\n",
              "    </tr>\n",
              "  </thead>\n",
              "  <tbody>\n",
              "    <tr>\n",
              "      <th>0</th>\n",
              "      <td>1</td>\n",
              "      <td>1952-02-03</td>\n",
              "      <td>Masculino</td>\n",
              "      <td>98</td>\n",
              "      <td>3</td>\n",
              "      <td>0</td>\n",
              "      <td>7</td>\n",
              "      <td>Particular</td>\n",
              "      <td>5700.0</td>\n",
              "      <td>faixa3</td>\n",
              "    </tr>\n",
              "    <tr>\n",
              "      <th>1</th>\n",
              "      <td>2</td>\n",
              "      <td>1958-05-23</td>\n",
              "      <td>Masculino</td>\n",
              "      <td>98</td>\n",
              "      <td>3</td>\n",
              "      <td>0</td>\n",
              "      <td>43</td>\n",
              "      <td>Particular</td>\n",
              "      <td>4020.0</td>\n",
              "      <td>faixa2</td>\n",
              "    </tr>\n",
              "    <tr>\n",
              "      <th>2</th>\n",
              "      <td>3</td>\n",
              "      <td>1929-07-26</td>\n",
              "      <td>Feminino</td>\n",
              "      <td>98</td>\n",
              "      <td>1</td>\n",
              "      <td>0</td>\n",
              "      <td>7</td>\n",
              "      <td>empresa</td>\n",
              "      <td>2145.0</td>\n",
              "      <td>faixa1</td>\n",
              "    </tr>\n",
              "    <tr>\n",
              "      <th>3</th>\n",
              "      <td>4</td>\n",
              "      <td>1947-04-15</td>\n",
              "      <td>Feminino</td>\n",
              "      <td>98</td>\n",
              "      <td>1</td>\n",
              "      <td>0</td>\n",
              "      <td>13</td>\n",
              "      <td>empresa</td>\n",
              "      <td>2190.0</td>\n",
              "      <td>faixa1</td>\n",
              "    </tr>\n",
              "    <tr>\n",
              "      <th>4</th>\n",
              "      <td>5</td>\n",
              "      <td>1955-02-09</td>\n",
              "      <td>Masculino</td>\n",
              "      <td>98</td>\n",
              "      <td>2</td>\n",
              "      <td>3</td>\n",
              "      <td>8</td>\n",
              "      <td>Particular</td>\n",
              "      <td>4500.0</td>\n",
              "      <td>faixa2</td>\n",
              "    </tr>\n",
              "  </tbody>\n",
              "</table>\n",
              "</div>"
            ],
            "text/plain": [
              "   ID DataNascimento       Sexo  ...       Conta  salario  Fx_Salarial\n",
              "0   1     1952-02-03  Masculino  ...  Particular   5700.0       faixa3\n",
              "1   2     1958-05-23  Masculino  ...  Particular   4020.0       faixa2\n",
              "2   3     1929-07-26   Feminino  ...     empresa   2145.0       faixa1\n",
              "3   4     1947-04-15   Feminino  ...     empresa   2190.0       faixa1\n",
              "4   5     1955-02-09  Masculino  ...  Particular   4500.0       faixa2\n",
              "\n",
              "[5 rows x 10 columns]"
            ]
          },
          "metadata": {
            "tags": []
          },
          "execution_count": 41
        }
      ]
    },
    {
      "cell_type": "code",
      "metadata": {
        "id": "n546uT5ojxNH",
        "outputId": "41dd14a4-87d5-479d-fa3b-e95ea89f89c0",
        "colab": {
          "base_uri": "https://localhost:8080/",
          "height": 204
        }
      },
      "source": [
        "#Lendo arquivo transacional\n",
        "transacional = pd.read_excel('/content/transacional.xlsx')\n",
        "transacional.head()"
      ],
      "execution_count": 44,
      "outputs": [
        {
          "output_type": "execute_result",
          "data": {
            "text/html": [
              "<div>\n",
              "<style scoped>\n",
              "    .dataframe tbody tr th:only-of-type {\n",
              "        vertical-align: middle;\n",
              "    }\n",
              "\n",
              "    .dataframe tbody tr th {\n",
              "        vertical-align: top;\n",
              "    }\n",
              "\n",
              "    .dataframe thead th {\n",
              "        text-align: right;\n",
              "    }\n",
              "</style>\n",
              "<table border=\"1\" class=\"dataframe\">\n",
              "  <thead>\n",
              "    <tr style=\"text-align: right;\">\n",
              "      <th></th>\n",
              "      <th>ID</th>\n",
              "      <th>default</th>\n",
              "      <th>default1</th>\n",
              "      <th>QtdaParcelas</th>\n",
              "      <th>Atraso</th>\n",
              "      <th>ValorEmprestimo</th>\n",
              "      <th>QtdaPagas</th>\n",
              "    </tr>\n",
              "  </thead>\n",
              "  <tbody>\n",
              "    <tr>\n",
              "      <th>0</th>\n",
              "      <td>1</td>\n",
              "      <td>Adimplente</td>\n",
              "      <td>0</td>\n",
              "      <td>19</td>\n",
              "      <td>Sim</td>\n",
              "      <td>665</td>\n",
              "      <td>6</td>\n",
              "    </tr>\n",
              "    <tr>\n",
              "      <th>1</th>\n",
              "      <td>2</td>\n",
              "      <td>Adimplente</td>\n",
              "      <td>0</td>\n",
              "      <td>33</td>\n",
              "      <td>Não</td>\n",
              "      <td>950</td>\n",
              "      <td>11</td>\n",
              "    </tr>\n",
              "    <tr>\n",
              "      <th>2</th>\n",
              "      <td>3</td>\n",
              "      <td>Adimplente</td>\n",
              "      <td>0</td>\n",
              "      <td>20</td>\n",
              "      <td>Não</td>\n",
              "      <td>700</td>\n",
              "      <td>6</td>\n",
              "    </tr>\n",
              "    <tr>\n",
              "      <th>3</th>\n",
              "      <td>4</td>\n",
              "      <td>Adimplente</td>\n",
              "      <td>0</td>\n",
              "      <td>21</td>\n",
              "      <td>Sim</td>\n",
              "      <td>735</td>\n",
              "      <td>7</td>\n",
              "    </tr>\n",
              "    <tr>\n",
              "      <th>4</th>\n",
              "      <td>5</td>\n",
              "      <td>Adimplente</td>\n",
              "      <td>0</td>\n",
              "      <td>18</td>\n",
              "      <td>Sim</td>\n",
              "      <td>630</td>\n",
              "      <td>6</td>\n",
              "    </tr>\n",
              "  </tbody>\n",
              "</table>\n",
              "</div>"
            ],
            "text/plain": [
              "   ID     default  default1  QtdaParcelas Atraso  ValorEmprestimo  QtdaPagas\n",
              "0   1  Adimplente         0            19    Sim              665          6\n",
              "1   2  Adimplente         0            33    Não              950         11\n",
              "2   3  Adimplente         0            20    Não              700          6\n",
              "3   4  Adimplente         0            21    Sim              735          7\n",
              "4   5  Adimplente         0            18    Sim              630          6"
            ]
          },
          "metadata": {
            "tags": []
          },
          "execution_count": 44
        }
      ]
    },
    {
      "cell_type": "code",
      "metadata": {
        "id": "c8OizxkpkapV",
        "outputId": "9ed095e4-d279-49d9-cbe3-ae6d87a85b44",
        "colab": {
          "base_uri": "https://localhost:8080/",
          "height": 224
        }
      },
      "source": [
        "#11 - Crie um arquivo chamado consolidado e faça uma união dos arquivos cadastral e Transacional através do Left join\n",
        "consolidado = pd.merge(cadastral, transacional, on='ID')\n",
        "consolidado.head()"
      ],
      "execution_count": 48,
      "outputs": [
        {
          "output_type": "execute_result",
          "data": {
            "text/html": [
              "<div>\n",
              "<style scoped>\n",
              "    .dataframe tbody tr th:only-of-type {\n",
              "        vertical-align: middle;\n",
              "    }\n",
              "\n",
              "    .dataframe tbody tr th {\n",
              "        vertical-align: top;\n",
              "    }\n",
              "\n",
              "    .dataframe thead th {\n",
              "        text-align: right;\n",
              "    }\n",
              "</style>\n",
              "<table border=\"1\" class=\"dataframe\">\n",
              "  <thead>\n",
              "    <tr style=\"text-align: right;\">\n",
              "      <th></th>\n",
              "      <th>ID</th>\n",
              "      <th>DataNascimento</th>\n",
              "      <th>Sexo</th>\n",
              "      <th>TempodeServiço</th>\n",
              "      <th>EstadoCivil</th>\n",
              "      <th>NumerodeFilhos</th>\n",
              "      <th>TempodeResidencia</th>\n",
              "      <th>Conta</th>\n",
              "      <th>salario</th>\n",
              "      <th>Fx_Salarial</th>\n",
              "      <th>default</th>\n",
              "      <th>default1</th>\n",
              "      <th>QtdaParcelas</th>\n",
              "      <th>Atraso</th>\n",
              "      <th>ValorEmprestimo</th>\n",
              "      <th>QtdaPagas</th>\n",
              "    </tr>\n",
              "  </thead>\n",
              "  <tbody>\n",
              "    <tr>\n",
              "      <th>0</th>\n",
              "      <td>1</td>\n",
              "      <td>1952-02-03</td>\n",
              "      <td>Masculino</td>\n",
              "      <td>98</td>\n",
              "      <td>3</td>\n",
              "      <td>0</td>\n",
              "      <td>7</td>\n",
              "      <td>Particular</td>\n",
              "      <td>5700.0</td>\n",
              "      <td>faixa3</td>\n",
              "      <td>Adimplente</td>\n",
              "      <td>0</td>\n",
              "      <td>19</td>\n",
              "      <td>Sim</td>\n",
              "      <td>665</td>\n",
              "      <td>6</td>\n",
              "    </tr>\n",
              "    <tr>\n",
              "      <th>1</th>\n",
              "      <td>1</td>\n",
              "      <td>1952-02-03</td>\n",
              "      <td>Masculino</td>\n",
              "      <td>98</td>\n",
              "      <td>3</td>\n",
              "      <td>0</td>\n",
              "      <td>7</td>\n",
              "      <td>Particular</td>\n",
              "      <td>5700.0</td>\n",
              "      <td>faixa3</td>\n",
              "      <td>Adimplente</td>\n",
              "      <td>0</td>\n",
              "      <td>19</td>\n",
              "      <td>Sim</td>\n",
              "      <td>665</td>\n",
              "      <td>6</td>\n",
              "    </tr>\n",
              "    <tr>\n",
              "      <th>2</th>\n",
              "      <td>2</td>\n",
              "      <td>1958-05-23</td>\n",
              "      <td>Masculino</td>\n",
              "      <td>98</td>\n",
              "      <td>3</td>\n",
              "      <td>0</td>\n",
              "      <td>43</td>\n",
              "      <td>Particular</td>\n",
              "      <td>4020.0</td>\n",
              "      <td>faixa2</td>\n",
              "      <td>Adimplente</td>\n",
              "      <td>0</td>\n",
              "      <td>33</td>\n",
              "      <td>Não</td>\n",
              "      <td>950</td>\n",
              "      <td>11</td>\n",
              "    </tr>\n",
              "    <tr>\n",
              "      <th>3</th>\n",
              "      <td>2</td>\n",
              "      <td>1958-05-23</td>\n",
              "      <td>Masculino</td>\n",
              "      <td>98</td>\n",
              "      <td>3</td>\n",
              "      <td>0</td>\n",
              "      <td>43</td>\n",
              "      <td>Particular</td>\n",
              "      <td>4020.0</td>\n",
              "      <td>faixa2</td>\n",
              "      <td>Adimplente</td>\n",
              "      <td>0</td>\n",
              "      <td>33</td>\n",
              "      <td>Não</td>\n",
              "      <td>950</td>\n",
              "      <td>11</td>\n",
              "    </tr>\n",
              "    <tr>\n",
              "      <th>4</th>\n",
              "      <td>3</td>\n",
              "      <td>1929-07-26</td>\n",
              "      <td>Feminino</td>\n",
              "      <td>98</td>\n",
              "      <td>1</td>\n",
              "      <td>0</td>\n",
              "      <td>7</td>\n",
              "      <td>empresa</td>\n",
              "      <td>2145.0</td>\n",
              "      <td>faixa1</td>\n",
              "      <td>Adimplente</td>\n",
              "      <td>0</td>\n",
              "      <td>20</td>\n",
              "      <td>Não</td>\n",
              "      <td>700</td>\n",
              "      <td>6</td>\n",
              "    </tr>\n",
              "  </tbody>\n",
              "</table>\n",
              "</div>"
            ],
            "text/plain": [
              "   ID DataNascimento       Sexo  ...  Atraso  ValorEmprestimo  QtdaPagas\n",
              "0   1     1952-02-03  Masculino  ...     Sim              665          6\n",
              "1   1     1952-02-03  Masculino  ...     Sim              665          6\n",
              "2   2     1958-05-23  Masculino  ...     Não              950         11\n",
              "3   2     1958-05-23  Masculino  ...     Não              950         11\n",
              "4   3     1929-07-26   Feminino  ...     Não              700          6\n",
              "\n",
              "[5 rows x 16 columns]"
            ]
          },
          "metadata": {
            "tags": []
          },
          "execution_count": 48
        }
      ]
    },
    {
      "cell_type": "code",
      "metadata": {
        "id": "KkbEK6I-mWRs",
        "outputId": "57b3137e-7de6-4150-9114-f25fcf591590",
        "colab": {
          "base_uri": "https://localhost:8080/",
          "height": 224
        }
      },
      "source": [
        "#12 - Crie uma variável comprometimento de renda usando as variáveis ValorEmprestimo e Salario.  Para isso utilize a expressão. (ValorEmprestimo / salario)*100\n",
        "consolidado['Compr_Renda'] = (consolidado['ValorEmprestimo']/consolidado['salario'])/100\n",
        "consolidado.head()"
      ],
      "execution_count": 52,
      "outputs": [
        {
          "output_type": "execute_result",
          "data": {
            "text/html": [
              "<div>\n",
              "<style scoped>\n",
              "    .dataframe tbody tr th:only-of-type {\n",
              "        vertical-align: middle;\n",
              "    }\n",
              "\n",
              "    .dataframe tbody tr th {\n",
              "        vertical-align: top;\n",
              "    }\n",
              "\n",
              "    .dataframe thead th {\n",
              "        text-align: right;\n",
              "    }\n",
              "</style>\n",
              "<table border=\"1\" class=\"dataframe\">\n",
              "  <thead>\n",
              "    <tr style=\"text-align: right;\">\n",
              "      <th></th>\n",
              "      <th>ID</th>\n",
              "      <th>DataNascimento</th>\n",
              "      <th>Sexo</th>\n",
              "      <th>TempodeServiço</th>\n",
              "      <th>EstadoCivil</th>\n",
              "      <th>NumerodeFilhos</th>\n",
              "      <th>TempodeResidencia</th>\n",
              "      <th>Conta</th>\n",
              "      <th>salario</th>\n",
              "      <th>Fx_Salarial</th>\n",
              "      <th>default</th>\n",
              "      <th>default1</th>\n",
              "      <th>QtdaParcelas</th>\n",
              "      <th>Atraso</th>\n",
              "      <th>ValorEmprestimo</th>\n",
              "      <th>QtdaPagas</th>\n",
              "      <th>Compr_Renda</th>\n",
              "    </tr>\n",
              "  </thead>\n",
              "  <tbody>\n",
              "    <tr>\n",
              "      <th>0</th>\n",
              "      <td>1</td>\n",
              "      <td>1952-02-03</td>\n",
              "      <td>Masculino</td>\n",
              "      <td>98</td>\n",
              "      <td>3</td>\n",
              "      <td>0</td>\n",
              "      <td>7</td>\n",
              "      <td>Particular</td>\n",
              "      <td>5700.0</td>\n",
              "      <td>faixa3</td>\n",
              "      <td>Adimplente</td>\n",
              "      <td>0</td>\n",
              "      <td>19</td>\n",
              "      <td>Sim</td>\n",
              "      <td>665</td>\n",
              "      <td>6</td>\n",
              "      <td>0.001167</td>\n",
              "    </tr>\n",
              "    <tr>\n",
              "      <th>1</th>\n",
              "      <td>1</td>\n",
              "      <td>1952-02-03</td>\n",
              "      <td>Masculino</td>\n",
              "      <td>98</td>\n",
              "      <td>3</td>\n",
              "      <td>0</td>\n",
              "      <td>7</td>\n",
              "      <td>Particular</td>\n",
              "      <td>5700.0</td>\n",
              "      <td>faixa3</td>\n",
              "      <td>Adimplente</td>\n",
              "      <td>0</td>\n",
              "      <td>19</td>\n",
              "      <td>Sim</td>\n",
              "      <td>665</td>\n",
              "      <td>6</td>\n",
              "      <td>0.001167</td>\n",
              "    </tr>\n",
              "    <tr>\n",
              "      <th>2</th>\n",
              "      <td>2</td>\n",
              "      <td>1958-05-23</td>\n",
              "      <td>Masculino</td>\n",
              "      <td>98</td>\n",
              "      <td>3</td>\n",
              "      <td>0</td>\n",
              "      <td>43</td>\n",
              "      <td>Particular</td>\n",
              "      <td>4020.0</td>\n",
              "      <td>faixa2</td>\n",
              "      <td>Adimplente</td>\n",
              "      <td>0</td>\n",
              "      <td>33</td>\n",
              "      <td>Não</td>\n",
              "      <td>950</td>\n",
              "      <td>11</td>\n",
              "      <td>0.002363</td>\n",
              "    </tr>\n",
              "    <tr>\n",
              "      <th>3</th>\n",
              "      <td>2</td>\n",
              "      <td>1958-05-23</td>\n",
              "      <td>Masculino</td>\n",
              "      <td>98</td>\n",
              "      <td>3</td>\n",
              "      <td>0</td>\n",
              "      <td>43</td>\n",
              "      <td>Particular</td>\n",
              "      <td>4020.0</td>\n",
              "      <td>faixa2</td>\n",
              "      <td>Adimplente</td>\n",
              "      <td>0</td>\n",
              "      <td>33</td>\n",
              "      <td>Não</td>\n",
              "      <td>950</td>\n",
              "      <td>11</td>\n",
              "      <td>0.002363</td>\n",
              "    </tr>\n",
              "    <tr>\n",
              "      <th>4</th>\n",
              "      <td>3</td>\n",
              "      <td>1929-07-26</td>\n",
              "      <td>Feminino</td>\n",
              "      <td>98</td>\n",
              "      <td>1</td>\n",
              "      <td>0</td>\n",
              "      <td>7</td>\n",
              "      <td>empresa</td>\n",
              "      <td>2145.0</td>\n",
              "      <td>faixa1</td>\n",
              "      <td>Adimplente</td>\n",
              "      <td>0</td>\n",
              "      <td>20</td>\n",
              "      <td>Não</td>\n",
              "      <td>700</td>\n",
              "      <td>6</td>\n",
              "      <td>0.003263</td>\n",
              "    </tr>\n",
              "  </tbody>\n",
              "</table>\n",
              "</div>"
            ],
            "text/plain": [
              "   ID DataNascimento       Sexo  ...  ValorEmprestimo  QtdaPagas  Compr_Renda\n",
              "0   1     1952-02-03  Masculino  ...              665          6     0.001167\n",
              "1   1     1952-02-03  Masculino  ...              665          6     0.001167\n",
              "2   2     1958-05-23  Masculino  ...              950         11     0.002363\n",
              "3   2     1958-05-23  Masculino  ...              950         11     0.002363\n",
              "4   3     1929-07-26   Feminino  ...              700          6     0.003263\n",
              "\n",
              "[5 rows x 17 columns]"
            ]
          },
          "metadata": {
            "tags": []
          },
          "execution_count": 52
        }
      ]
    },
    {
      "cell_type": "code",
      "metadata": {
        "id": "qBJbmszanbvZ",
        "outputId": "5d370241-904a-460b-c56d-cc6501b65abd",
        "colab": {
          "base_uri": "https://localhost:8080/",
          "height": 68
        }
      },
      "source": [
        "#13 - Tire uma frequência separadamente das variáveis Sexo e default. Quantos Homens , Mulheres, Adimplente e Inadimplente possui. Os valores precisam ser mostrados separadamente.\n",
        "consolidado['Sexo'].value_counts()"
      ],
      "execution_count": 57,
      "outputs": [
        {
          "output_type": "execute_result",
          "data": {
            "text/plain": [
              "Masculino    514\n",
              "Feminino     432\n",
              "Name: Sexo, dtype: int64"
            ]
          },
          "metadata": {
            "tags": []
          },
          "execution_count": 57
        }
      ]
    },
    {
      "cell_type": "code",
      "metadata": {
        "id": "X-WiKWs5oBSy",
        "outputId": "e82e6f5f-8096-4313-f72b-f43f1c541679",
        "colab": {
          "base_uri": "https://localhost:8080/",
          "height": 68
        }
      },
      "source": [
        "#13 - Tire uma frequência separadamente das variáveis Sexo e default. Quantos Homens , Mulheres, Adimplente e Inadimplente possui. Os valores precisam ser mostrados separadamente.\n",
        "consolidado['default'].value_counts()"
      ],
      "execution_count": 59,
      "outputs": [
        {
          "output_type": "execute_result",
          "data": {
            "text/plain": [
              "Inadimplente    686\n",
              "Adimplente      260\n",
              "Name: default, dtype: int64"
            ]
          },
          "metadata": {
            "tags": []
          },
          "execution_count": 59
        }
      ]
    },
    {
      "cell_type": "code",
      "metadata": {
        "id": "tJCu-VFBoky7",
        "outputId": "fa4e800a-e387-425b-ac82-753e85db8985",
        "colab": {
          "base_uri": "https://localhost:8080/",
          "height": 142
        }
      },
      "source": [
        "#14 - Faça uma estatística Bivariada utilizando a função CrossTable ente Sexo e default\n",
        "pd.crosstab(consolidado.Sexo,consolidado.default)"
      ],
      "execution_count": 60,
      "outputs": [
        {
          "output_type": "execute_result",
          "data": {
            "text/html": [
              "<div>\n",
              "<style scoped>\n",
              "    .dataframe tbody tr th:only-of-type {\n",
              "        vertical-align: middle;\n",
              "    }\n",
              "\n",
              "    .dataframe tbody tr th {\n",
              "        vertical-align: top;\n",
              "    }\n",
              "\n",
              "    .dataframe thead th {\n",
              "        text-align: right;\n",
              "    }\n",
              "</style>\n",
              "<table border=\"1\" class=\"dataframe\">\n",
              "  <thead>\n",
              "    <tr style=\"text-align: right;\">\n",
              "      <th>default</th>\n",
              "      <th>Adimplente</th>\n",
              "      <th>Inadimplente</th>\n",
              "    </tr>\n",
              "    <tr>\n",
              "      <th>Sexo</th>\n",
              "      <th></th>\n",
              "      <th></th>\n",
              "    </tr>\n",
              "  </thead>\n",
              "  <tbody>\n",
              "    <tr>\n",
              "      <th>Feminino</th>\n",
              "      <td>98</td>\n",
              "      <td>334</td>\n",
              "    </tr>\n",
              "    <tr>\n",
              "      <th>Masculino</th>\n",
              "      <td>162</td>\n",
              "      <td>352</td>\n",
              "    </tr>\n",
              "  </tbody>\n",
              "</table>\n",
              "</div>"
            ],
            "text/plain": [
              "default    Adimplente  Inadimplente\n",
              "Sexo                               \n",
              "Feminino           98           334\n",
              "Masculino         162           352"
            ]
          },
          "metadata": {
            "tags": []
          },
          "execution_count": 60
        }
      ]
    }
  ]
}